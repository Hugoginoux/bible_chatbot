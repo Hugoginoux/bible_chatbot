{
 "cells": [
  {
   "cell_type": "markdown",
   "id": "9b6b60ee",
   "metadata": {},
   "source": [
    "## 1. Load and preprocess the text"
   ]
  },
  {
   "cell_type": "code",
   "execution_count": 1,
   "id": "c7e72722",
   "metadata": {},
   "outputs": [
    {
     "data": {
      "text/plain": [
       "'1:1 in the beginning god created the heaven and the earth.\\r\\n\\r\\n1:2 and the earth was without form, and void; and darkness was upon\\r\\nthe face of the deep. and the spirit of god moved upon the face of the\\r\\nwaters.\\r\\n\\r\\n1:3 and god said, let there be light'"
      ]
     },
     "execution_count": 1,
     "metadata": {},
     "output_type": "execute_result"
    }
   ],
   "source": [
    "import tensorflow as tf\n",
    "import numpy as np\n",
    "import matplotlib.pyplot as plt\n",
    "\n",
    "text = open('bible.txt', 'rb').read().decode(encoding='utf-8').lower()\n",
    "text[:250]"
   ]
  },
  {
   "cell_type": "code",
   "execution_count": 2,
   "id": "3995a1e3",
   "metadata": {},
   "outputs": [
    {
     "data": {
      "text/plain": [
       "'1:1 in the beginning god created the heaven and the earth.  1:2 and the earth was without form, and void; and darkness was upon the face of the deep. and the spirit of god moved upon the face of the waters.  1:3 and god said, let there be light: and '"
      ]
     },
     "execution_count": 2,
     "metadata": {},
     "output_type": "execute_result"
    }
   ],
   "source": [
    "# remove \\n and \\r\n",
    "text = text.replace('\\r', '').replace('\\n', ' ')\n",
    "text[:250]"
   ]
  },
  {
   "cell_type": "code",
   "execution_count": 3,
   "id": "72cc479d",
   "metadata": {},
   "outputs": [
    {
     "data": {
      "text/plain": [
       "'in the beginning god created the heaven and the earth. and the earth was without form, and void; and darkness was upon the face of the deep. and the spirit of god moved upon the face of the waters. and god said, let there be light: and there was ligh'"
      ]
     },
     "execution_count": 3,
     "metadata": {},
     "output_type": "execute_result"
    }
   ],
   "source": [
    "# remover the paragaphs numbers\n",
    "import re\n",
    "pattern = r'[0-9]+:[0-9]+'\n",
    "text = re.sub(pattern, '', text)[1:].replace('   ', ' ').replace('  ', ' ')\n",
    "text[:250]"
   ]
  },
  {
   "cell_type": "code",
   "execution_count": 4,
   "id": "73dff16d",
   "metadata": {},
   "outputs": [
    {
     "data": {
      "text/plain": [
       "'in the beginning god created the heaven and the earth and the earth was without form and void and darkness was upon the face of the deep and the spirit of god moved upon the face of the waters and god said let there be light and there was light and g'"
      ]
     },
     "execution_count": 4,
     "metadata": {},
     "output_type": "execute_result"
    }
   ],
   "source": [
    "# remove punctutation\n",
    "text = re.sub(r'[^\\w\\s]', '', text)\n",
    "text[:250]"
   ]
  },
  {
   "cell_type": "code",
   "execution_count": 5,
   "id": "952dba63",
   "metadata": {},
   "outputs": [
    {
     "name": "stdout",
     "output_type": "stream",
     "text": [
      "Total Tokens: 500000\n",
      "Unique Tokens: 10071\n",
      "Total Sequences: 499996\n",
      "This is the first sequence: in the beginning god\n",
      "This is the second sequence: the beginning god created\n",
      "This is the third sequence: beginning god created the\n"
     ]
    }
   ],
   "source": [
    "tokens = text.split(' ')\n",
    "tokens = tokens[:500_000]\n",
    "\n",
    "number_of_unique_tokens = len(set(tokens))\n",
    "\n",
    "print('Total Tokens: %d' % len(tokens))\n",
    "print('Unique Tokens: %d' % number_of_unique_tokens)\n",
    "\n",
    "sequence_length = 3\n",
    "\n",
    "# organize into sequences of tokens of input words plus one output word\n",
    "length = sequence_length + 1\n",
    "sequences = list()\n",
    "for i in range(length, len(tokens)):\n",
    "    # select sequence of tokens\n",
    "    seq = tokens[i-length:i]\n",
    "    # convert into a line\n",
    "    line = ' '.join(seq)\n",
    "    # store\n",
    "    sequences.append(line)\n",
    "\n",
    "print ('Total Sequences: %d' % len(sequences))\n",
    "print ('This is the first sequence: {0}'.format(sequences[0]))\n",
    "print ('This is the second sequence: {0}'.format(sequences[1]))\n",
    "print ('This is the third sequence: {0}'.format(sequences[2]))"
   ]
  },
  {
   "cell_type": "markdown",
   "id": "84a3fc9c",
   "metadata": {},
   "source": [
    "## 2. Train the model"
   ]
  },
  {
   "cell_type": "code",
   "execution_count": 6,
   "id": "d330ae6e",
   "metadata": {},
   "outputs": [],
   "source": [
    "from keras.preprocessing.text import Tokenizer\n",
    "from keras.utils import to_categorical\n",
    "from keras.models import Sequential\n",
    "from keras.layers import Dense\n",
    "from keras.layers import LSTM, Dropout\n",
    "from keras.layers import Embedding\n",
    " \n",
    "tokenizer = Tokenizer()\n",
    "tokenizer.fit_on_texts(sequences)\n",
    "sequences = tokenizer.texts_to_sequences(sequences)\n",
    "\n",
    "# remove sequences with not enough words\n",
    "sequences = [sequences[i] for i in range(len(sequences)) if len(sequences[i])==length]\n",
    "\n",
    "vocab_size = number_of_unique_tokens + 1\n",
    " \n",
    "sequences0 = np.array(sequences)\n",
    "X, y = sequences0[:,:-1], sequences0[:,-1]\n",
    "y = to_categorical(y, num_classes=vocab_size)"
   ]
  },
  {
   "cell_type": "code",
   "execution_count": 7,
   "id": "6995c098",
   "metadata": {},
   "outputs": [
    {
     "name": "stdout",
     "output_type": "stream",
     "text": [
      "Epoch 1/50\n",
      "2926/2926 [==============================] - 139s 44ms/step - loss: 6.0947 - accuracy: 0.0889 - val_loss: 5.7889 - val_accuracy: 0.1284\n",
      "Epoch 2/50\n",
      "2926/2926 [==============================] - 110s 38ms/step - loss: 5.6455 - accuracy: 0.1500 - val_loss: 5.3998 - val_accuracy: 0.1725\n",
      "Epoch 3/50\n",
      "2926/2926 [==============================] - 111s 38ms/step - loss: 5.3673 - accuracy: 0.1728 - val_loss: 5.2157 - val_accuracy: 0.1844\n",
      "Epoch 4/50\n",
      "2926/2926 [==============================] - 113s 39ms/step - loss: 5.2013 - accuracy: 0.1834 - val_loss: 5.1097 - val_accuracy: 0.1931\n",
      "Epoch 5/50\n",
      "2926/2926 [==============================] - 134s 46ms/step - loss: 5.0926 - accuracy: 0.1886 - val_loss: 5.0349 - val_accuracy: 0.1960\n",
      "Epoch 6/50\n",
      "2926/2926 [==============================] - 160s 55ms/step - loss: 5.0121 - accuracy: 0.1915 - val_loss: 4.9867 - val_accuracy: 0.1985\n",
      "Epoch 7/50\n",
      "2926/2926 [==============================] - 155s 53ms/step - loss: 4.9473 - accuracy: 0.1948 - val_loss: 4.9481 - val_accuracy: 0.2026\n",
      "Epoch 8/50\n",
      "2926/2926 [==============================] - 160s 55ms/step - loss: 4.8941 - accuracy: 0.1979 - val_loss: 4.9085 - val_accuracy: 0.2046\n",
      "Epoch 9/50\n",
      "2926/2926 [==============================] - 157s 54ms/step - loss: 4.8471 - accuracy: 0.2005 - val_loss: 4.8793 - val_accuracy: 0.2065\n",
      "Epoch 10/50\n",
      "2926/2926 [==============================] - 155s 53ms/step - loss: 4.8098 - accuracy: 0.2028 - val_loss: 4.8574 - val_accuracy: 0.2107\n",
      "Epoch 11/50\n",
      "2926/2926 [==============================] - 158s 54ms/step - loss: 4.7771 - accuracy: 0.2048 - val_loss: 4.8339 - val_accuracy: 0.2122\n",
      "Epoch 12/50\n",
      "2926/2926 [==============================] - 158s 54ms/step - loss: 4.7484 - accuracy: 0.2067 - val_loss: 4.8240 - val_accuracy: 0.2127\n",
      "Epoch 13/50\n",
      "2926/2926 [==============================] - 160s 55ms/step - loss: 4.7235 - accuracy: 0.2084 - val_loss: 4.8100 - val_accuracy: 0.2153\n",
      "Epoch 14/50\n",
      "2926/2926 [==============================] - 163s 56ms/step - loss: 4.7033 - accuracy: 0.2095 - val_loss: 4.7888 - val_accuracy: 0.2157\n",
      "Epoch 15/50\n",
      "2926/2926 [==============================] - 160s 55ms/step - loss: 4.6815 - accuracy: 0.2109 - val_loss: 4.7757 - val_accuracy: 0.2166\n",
      "Epoch 16/50\n",
      "2926/2926 [==============================] - 163s 56ms/step - loss: 4.6642 - accuracy: 0.2119 - val_loss: 4.7744 - val_accuracy: 0.2172\n",
      "Epoch 17/50\n",
      "2926/2926 [==============================] - 168s 57ms/step - loss: 4.6479 - accuracy: 0.2128 - val_loss: 4.7624 - val_accuracy: 0.2180\n",
      "Epoch 18/50\n",
      "2926/2926 [==============================] - 166s 57ms/step - loss: 4.6332 - accuracy: 0.2138 - val_loss: 4.7536 - val_accuracy: 0.2200\n",
      "Epoch 19/50\n",
      "2926/2926 [==============================] - 165s 56ms/step - loss: 4.6182 - accuracy: 0.2145 - val_loss: 4.7511 - val_accuracy: 0.2216\n",
      "Epoch 20/50\n",
      "2926/2926 [==============================] - 158s 54ms/step - loss: 4.6050 - accuracy: 0.2150 - val_loss: 4.7453 - val_accuracy: 0.2217\n",
      "Epoch 21/50\n",
      "2926/2926 [==============================] - 160s 55ms/step - loss: 4.5913 - accuracy: 0.2160 - val_loss: 4.7348 - val_accuracy: 0.2222\n",
      "Epoch 22/50\n",
      "2926/2926 [==============================] - 162s 55ms/step - loss: 4.5839 - accuracy: 0.2168 - val_loss: 4.7341 - val_accuracy: 0.2242\n",
      "Epoch 23/50\n",
      "2926/2926 [==============================] - 162s 56ms/step - loss: 4.5710 - accuracy: 0.2174 - val_loss: 4.7269 - val_accuracy: 0.2244\n",
      "Epoch 24/50\n",
      "2926/2926 [==============================] - 167s 57ms/step - loss: 4.5603 - accuracy: 0.2181 - val_loss: 4.7236 - val_accuracy: 0.2256\n",
      "Epoch 25/50\n",
      "2926/2926 [==============================] - 173s 59ms/step - loss: 4.5534 - accuracy: 0.2190 - val_loss: 4.7196 - val_accuracy: 0.2269\n",
      "Epoch 26/50\n",
      "2926/2926 [==============================] - 167s 57ms/step - loss: 4.5416 - accuracy: 0.2197 - val_loss: 4.7128 - val_accuracy: 0.2259\n",
      "Epoch 27/50\n",
      "2926/2926 [==============================] - 171s 58ms/step - loss: 4.5362 - accuracy: 0.2201 - val_loss: 4.7177 - val_accuracy: 0.2285\n",
      "Epoch 28/50\n",
      "2926/2926 [==============================] - 172s 59ms/step - loss: 4.5285 - accuracy: 0.2206 - val_loss: 4.7142 - val_accuracy: 0.2287\n",
      "Epoch 29/50\n",
      "2926/2926 [==============================] - 170s 58ms/step - loss: 4.5191 - accuracy: 0.2212 - val_loss: 4.7204 - val_accuracy: 0.2297\n",
      "Epoch 30/50\n",
      "2926/2926 [==============================] - 148s 50ms/step - loss: 4.5138 - accuracy: 0.2218 - val_loss: 4.7058 - val_accuracy: 0.2293\n",
      "Epoch 31/50\n",
      "2926/2926 [==============================] - 124s 42ms/step - loss: 4.5015 - accuracy: 0.2229 - val_loss: 4.7029 - val_accuracy: 0.2290\n",
      "Epoch 32/50\n",
      "2926/2926 [==============================] - 126s 43ms/step - loss: 4.4986 - accuracy: 0.2227 - val_loss: 4.7046 - val_accuracy: 0.2303\n",
      "Epoch 33/50\n",
      "2926/2926 [==============================] - 125s 43ms/step - loss: 4.4935 - accuracy: 0.2231 - val_loss: 4.7124 - val_accuracy: 0.2311\n",
      "Epoch 34/50\n",
      "2926/2926 [==============================] - 128s 44ms/step - loss: 4.4848 - accuracy: 0.2232 - val_loss: 4.7096 - val_accuracy: 0.2317\n",
      "Epoch 35/50\n",
      "2926/2926 [==============================] - 129s 44ms/step - loss: 4.4791 - accuracy: 0.2239 - val_loss: 4.6970 - val_accuracy: 0.2314\n",
      "Epoch 36/50\n",
      "2926/2926 [==============================] - 122s 42ms/step - loss: 4.4757 - accuracy: 0.2248 - val_loss: 4.6952 - val_accuracy: 0.2321\n",
      "Epoch 37/50\n",
      "2926/2926 [==============================] - 124s 42ms/step - loss: 4.4670 - accuracy: 0.2249 - val_loss: 4.6955 - val_accuracy: 0.2321\n",
      "Epoch 38/50\n",
      "2926/2926 [==============================] - 125s 43ms/step - loss: 4.4618 - accuracy: 0.2254 - val_loss: 4.6955 - val_accuracy: 0.2326\n",
      "Epoch 39/50\n",
      "2926/2926 [==============================] - 126s 43ms/step - loss: 4.4594 - accuracy: 0.2257 - val_loss: 4.6917 - val_accuracy: 0.2319\n",
      "Epoch 40/50\n",
      "2926/2926 [==============================] - 126s 43ms/step - loss: 4.4542 - accuracy: 0.2263 - val_loss: 4.7063 - val_accuracy: 0.2325\n",
      "Epoch 41/50\n",
      "2926/2926 [==============================] - 127s 43ms/step - loss: 4.4494 - accuracy: 0.2265 - val_loss: 4.6984 - val_accuracy: 0.2345\n",
      "Epoch 42/50\n",
      "2926/2926 [==============================] - 129s 44ms/step - loss: 4.4461 - accuracy: 0.2264 - val_loss: 4.6956 - val_accuracy: 0.2332\n",
      "Epoch 43/50\n",
      "2926/2926 [==============================] - 131s 45ms/step - loss: 4.4402 - accuracy: 0.2266 - val_loss: 4.7023 - val_accuracy: 0.2342\n",
      "Epoch 44/50\n",
      "2926/2926 [==============================] - 132s 45ms/step - loss: 4.4360 - accuracy: 0.2277 - val_loss: 4.6825 - val_accuracy: 0.2326\n",
      "Epoch 45/50\n",
      "2926/2926 [==============================] - 134s 46ms/step - loss: 4.4300 - accuracy: 0.2284 - val_loss: 4.7035 - val_accuracy: 0.2342\n",
      "Epoch 46/50\n",
      "2926/2926 [==============================] - 136s 46ms/step - loss: 4.4260 - accuracy: 0.2281 - val_loss: 4.7151 - val_accuracy: 0.2350\n",
      "Epoch 47/50\n",
      "2926/2926 [==============================] - 135s 46ms/step - loss: 4.4203 - accuracy: 0.2291 - val_loss: 4.6909 - val_accuracy: 0.2340\n",
      "Epoch 48/50\n",
      "2926/2926 [==============================] - 136s 47ms/step - loss: 4.4172 - accuracy: 0.2285 - val_loss: 4.6944 - val_accuracy: 0.2347\n",
      "Epoch 49/50\n",
      "2926/2926 [==============================] - 137s 47ms/step - loss: 4.4148 - accuracy: 0.2292 - val_loss: 4.7086 - val_accuracy: 0.2352\n",
      "Epoch 50/50\n",
      "2926/2926 [==============================] - 139s 48ms/step - loss: 4.4113 - accuracy: 0.2291 - val_loss: 4.6928 - val_accuracy: 0.2354\n"
     ]
    },
    {
     "name": "stderr",
     "output_type": "stream",
     "text": [
      "WARNING:absl:Found untraced functions such as lstm_cell_layer_call_fn, lstm_cell_layer_call_and_return_conditional_losses, lstm_cell_1_layer_call_fn, lstm_cell_1_layer_call_and_return_conditional_losses while saving (showing 4 of 4). These functions will not be directly callable after loading.\n"
     ]
    },
    {
     "name": "stdout",
     "output_type": "stream",
     "text": [
      "INFO:tensorflow:Assets written to: bible_model\\assets\n"
     ]
    },
    {
     "name": "stderr",
     "output_type": "stream",
     "text": [
      "INFO:tensorflow:Assets written to: bible_model\\assets\n"
     ]
    },
    {
     "data": {
      "image/png": "[encoded data removed]",
      "text/plain": [
       "<Figure size 432x288 with 1 Axes>"
      ]
     },
     "metadata": {
      "needs_background": "light"
     },
     "output_type": "display_data"
    }
   ],
   "source": [
    "from sklearn.model_selection import train_test_split\n",
    "\n",
    "X_train, X_test, y_train, y_test = train_test_split(X, y, random_state=42)\n",
    "\n",
    "# The learned embedding needs to know how many dimensions will be used to represent each word. \n",
    "# That is, the size of the embedding vector space. That is, the size of the embedding vector space.\n",
    "# Common values are 50, 100, and 300. Consider testing smaller or larger values.\n",
    "dimensions_to_represent_word = 100\n",
    " \n",
    "model = Sequential()\n",
    "model.add(Embedding(vocab_size, sequence_length, input_length=sequence_length))\n",
    "# We will use a two LSTM hidden layers with 100 memory cells each. \n",
    "# More memory cells and a deeper network may achieve better results.\n",
    "model.add(LSTM(100, return_sequences=True))\n",
    "model.add(LSTM(100))\n",
    "model.add(Dense(50, activation='relu'))\n",
    "model.add(Dropout(0.5))\n",
    "model.add(Dense(vocab_size, activation='softmax'))\n",
    "\n",
    "model.compile(loss='categorical_crossentropy', optimizer='adam', metrics=['accuracy'])\n",
    "\n",
    "# Training may take a few hours on modern hardware without GPUs. \n",
    "# You can speed it up with a larger batch size and/or fewer training epochs.\n",
    "history = model.fit(\n",
    "    X_train, \n",
    "    y_train, \n",
    "    batch_size=128, \n",
    "    epochs=50, \n",
    "    verbose=1,\n",
    "    validation_data=(X_test, y_test)\n",
    ")\n",
    "\n",
    "plt.plot(history.history['accuracy'], label='training accuracy')\n",
    "plt.plot(history.history['val_accuracy'], label='validation accuracy')\n",
    "plt.legend()\n",
    "\n",
    "\n",
    "model.save('bible_model')"
   ]
  },
  {
   "cell_type": "markdown",
   "id": "fb25ec58",
   "metadata": {},
   "source": [
    "## 3. Predict word by word"
   ]
  },
  {
   "cell_type": "code",
   "execution_count": 8,
   "id": "232ca78e",
   "metadata": {},
   "outputs": [
    {
     "name": "stdout",
     "output_type": "stream",
     "text": [
      "seed : \n",
      "the twelve sons of\n",
      "next words : \n",
      "the lord and the lord said unto moses i will not be the lord and\n"
     ]
    }
   ],
   "source": [
    "# must be longer than sequence_length\n",
    "seed = \"the twelve sons of\"\n",
    "n_predictions = 15\n",
    "reverse_word_map = dict(map(reversed, tokenizer.word_index.items()))\n",
    "\n",
    "print('seed : \\n' + seed)\n",
    "last_words = seed.split(' ')[-sequence_length:]\n",
    "preds = []\n",
    "\n",
    "for i in range(n_predictions):\n",
    "    example = tokenizer.texts_to_sequences([last_words])\n",
    "    prediction = model.predict(np.array(example), verbose=0)\n",
    "    predicted_word = np.argmax(prediction)\n",
    "    last_words = last_words[1:]\n",
    "    last_words.append(reverse_word_map[predicted_word])\n",
    "    preds.append(reverse_word_map[predicted_word])\n",
    "    \n",
    "print('next words : \\n' + ' '.join(preds))"
   ]
  },
  {
   "cell_type": "code",
   "execution_count": 9,
   "id": "22a4f92e",
   "metadata": {},
   "outputs": [
    {
     "data": {
      "text/plain": [
       "True"
      ]
     },
     "execution_count": 9,
     "metadata": {},
     "output_type": "execute_result"
    }
   ],
   "source": [
    "'safety' in tokenizer.word_index.keys()"
   ]
  }
 ],
 "metadata": {
  "kernelspec": {
   "display_name": "Python 3 (ipykernel)",
   "language": "python",
   "name": "python3"
  },
  "language_info": {
   "codemirror_mode": {
    "name": "ipython",
    "version": 3
   },
   "file_extension": ".py",
   "mimetype": "text/x-python",
   "name": "python",
   "nbconvert_exporter": "python",
   "pygments_lexer": "ipython3",
   "version": "3.9.7"
  }
 },
 "nbformat": 4,
 "nbformat_minor": 5
}
