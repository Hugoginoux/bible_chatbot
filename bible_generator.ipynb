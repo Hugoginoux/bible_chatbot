{
 "cells": [
  {
   "cell_type": "markdown",
   "id": "9b6b60ee",
   "metadata": {},
   "source": [
    "## 1. Load and preprocess the text"
   ]
  },
  {
   "cell_type": "code",
   "execution_count": 1,
   "id": "c7e72722",
   "metadata": {},
   "outputs": [
    {
     "data": {
      "text/plain": [
       "'1:1 in the beginning god created the heaven and the earth.\\r\\n\\r\\n1:2 and the earth was without form, and void; and darkness was upon\\r\\nthe face of the deep. and the spirit of god moved upon the face of the\\r\\nwaters.\\r\\n\\r\\n1:3 and god said, let there be light'"
      ]
     },
     "execution_count": 1,
     "metadata": {},
     "output_type": "execute_result"
    }
   ],
   "source": [
    "import tensorflow as tf\n",
    "import numpy as np\n",
    "import matplotlib.pyplot as plt\n",
    "\n",
    "text = open('bible.txt', 'rb').read().decode(encoding='utf-8').lower()\n",
    "text[:250]"
   ]
  },
  {
   "cell_type": "code",
   "execution_count": 2,
   "id": "3995a1e3",
   "metadata": {},
   "outputs": [
    {
     "data": {
      "text/plain": [
       "'1:1 in the beginning god created the heaven and the earth.  1:2 and the earth was without form, and void; and darkness was upon the face of the deep. and the spirit of god moved upon the face of the waters.  1:3 and god said, let there be light: and '"
      ]
     },
     "execution_count": 2,
     "metadata": {},
     "output_type": "execute_result"
    }
   ],
   "source": [
    "# remove \\n and \\r\n",
    "text = text.replace('\\r', '').replace('\\n', ' ')\n",
    "text[:250]"
   ]
  },
  {
   "cell_type": "code",
   "execution_count": 3,
   "id": "72cc479d",
   "metadata": {},
   "outputs": [
    {
     "data": {
      "text/plain": [
       "'in the beginning god created the heaven and the earth. and the earth was without form, and void; and darkness was upon the face of the deep. and the spirit of god moved upon the face of the waters. and god said, let there be light: and there was ligh'"
      ]
     },
     "execution_count": 3,
     "metadata": {},
     "output_type": "execute_result"
    }
   ],
   "source": [
    "# remover the paragaphs numbers\n",
    "import re\n",
    "pattern = r'[0-9]+:[0-9]+'\n",
    "text = re.sub(pattern, '', text)[1:].replace('   ', ' ').replace('  ', ' ')\n",
    "text[:250]"
   ]
  },
  {
   "cell_type": "code",
   "execution_count": 4,
   "id": "73dff16d",
   "metadata": {},
   "outputs": [
    {
     "data": {
      "text/plain": [
       "'in the beginning god created the heaven and the earth and the earth was without form and void and darkness was upon the face of the deep and the spirit of god moved upon the face of the waters and god said let there be light and there was light and g'"
      ]
     },
     "execution_count": 4,
     "metadata": {},
     "output_type": "execute_result"
    }
   ],
   "source": [
    "# remove punctutation\n",
    "text = re.sub(r'[^\\w\\s]', '', text)\n",
    "text[:250]"
   ]
  },
  {
   "cell_type": "code",
   "execution_count": 5,
   "id": "952dba63",
   "metadata": {},
   "outputs": [
    {
     "name": "stdout",
     "output_type": "stream",
     "text": [
      "Total Tokens: 500000\n",
      "Unique Tokens: 10071\n",
      "Total Sequences: 499979\n",
      "This is the first sequence: in the beginning god created the heaven and the earth and the earth was without form and void and darkness was\n",
      "This is the second sequence: the beginning god created the heaven and the earth and the earth was without form and void and darkness was upon\n",
      "This is the third sequence: beginning god created the heaven and the earth and the earth was without form and void and darkness was upon the\n"
     ]
    }
   ],
   "source": [
    "tokens = text.split(' ')\n",
    "tokens = tokens[:500_000]\n",
    "\n",
    "number_of_unique_tokens = len(set(tokens))\n",
    "\n",
    "print('Total Tokens: %d' % len(tokens))\n",
    "print('Unique Tokens: %d' % number_of_unique_tokens)\n",
    "\n",
    "sequence_length = 20\n",
    "\n",
    "# organize into sequences of tokens of input words plus one output word\n",
    "length = sequence_length + 1\n",
    "sequences = list()\n",
    "for i in range(length, len(tokens)):\n",
    "    # select sequence of tokens\n",
    "    seq = tokens[i-length:i]\n",
    "    # convert into a line\n",
    "    line = ' '.join(seq)\n",
    "    # store\n",
    "    sequences.append(line)\n",
    "\n",
    "print ('Total Sequences: %d' % len(sequences))\n",
    "print ('This is the first sequence: {0}'.format(sequences[0]))\n",
    "print ('This is the second sequence: {0}'.format(sequences[1]))\n",
    "print ('This is the third sequence: {0}'.format(sequences[2]))"
   ]
  },
  {
   "cell_type": "markdown",
   "id": "84a3fc9c",
   "metadata": {},
   "source": [
    "## 2. Train the model"
   ]
  },
  {
   "cell_type": "code",
   "execution_count": 6,
   "id": "d330ae6e",
   "metadata": {},
   "outputs": [],
   "source": [
    "from keras.preprocessing.text import Tokenizer\n",
    "from keras.utils import to_categorical\n",
    "from keras.models import Sequential\n",
    "from keras.layers import Dense\n",
    "from keras.layers import LSTM, Dropout\n",
    "from keras.layers import Embedding\n",
    " \n",
    "tokenizer = Tokenizer()\n",
    "tokenizer.fit_on_texts(sequences)\n",
    "sequences = tokenizer.texts_to_sequences(sequences)\n",
    "\n",
    "# remove sequences with not enough words\n",
    "sequences = [sequences[i] for i in range(len(sequences)) if len(sequences[i])==length]\n",
    "\n",
    "vocab_size = number_of_unique_tokens + 1\n",
    " \n",
    "sequences0 = np.array(sequences)\n",
    "X, y = sequences0[:,:-1], sequences0[:,-1]\n",
    "y = to_categorical(y, num_classes=vocab_size)"
   ]
  },
  {
   "cell_type": "code",
   "execution_count": 7,
   "id": "7d2e80e2",
   "metadata": {},
   "outputs": [
    {
     "name": "stdout",
     "output_type": "stream",
     "text": [
      "Epoch 1/50\n",
      "2909/2909 [==============================] - 265s 89ms/step - loss: 5.4961 - accuracy: 0.1560 - val_loss: 5.0960 - val_accuracy: 0.1902\n",
      "Epoch 2/50\n",
      "2909/2909 [==============================] - 263s 91ms/step - loss: 4.8562 - accuracy: 0.2029 - val_loss: 4.7413 - val_accuracy: 0.2159\n",
      "Epoch 3/50\n",
      "2909/2909 [==============================] - 263s 90ms/step - loss: 4.4903 - accuracy: 0.2267 - val_loss: 4.5371 - val_accuracy: 0.2321\n",
      "Epoch 4/50\n",
      "2909/2909 [==============================] - 270s 93ms/step - loss: 4.2383 - accuracy: 0.2424 - val_loss: 4.4269 - val_accuracy: 0.2424\n",
      "Epoch 5/50\n",
      "2909/2909 [==============================] - 272s 93ms/step - loss: 4.0463 - accuracy: 0.2560 - val_loss: 4.3680 - val_accuracy: 0.2509\n",
      "Epoch 6/50\n",
      "2909/2909 [==============================] - 274s 94ms/step - loss: 3.8889 - accuracy: 0.2668 - val_loss: 4.3410 - val_accuracy: 0.2588\n",
      "Epoch 7/50\n",
      "2909/2909 [==============================] - 273s 94ms/step - loss: 3.7552 - accuracy: 0.2770 - val_loss: 4.3284 - val_accuracy: 0.2630\n",
      "Epoch 8/50\n",
      "2909/2909 [==============================] - 278s 96ms/step - loss: 3.6391 - accuracy: 0.2860 - val_loss: 4.3263 - val_accuracy: 0.2677\n",
      "Epoch 9/50\n",
      "2909/2909 [==============================] - 277s 95ms/step - loss: 3.5372 - accuracy: 0.2944 - val_loss: 4.3330 - val_accuracy: 0.2698\n",
      "Epoch 10/50\n",
      "2909/2909 [==============================] - 281s 97ms/step - loss: 3.4451 - accuracy: 0.3023 - val_loss: 4.3566 - val_accuracy: 0.2718\n",
      "Epoch 11/50\n",
      "2909/2909 [==============================] - 282s 97ms/step - loss: 3.3624 - accuracy: 0.3108 - val_loss: 4.3731 - val_accuracy: 0.2733\n",
      "Epoch 12/50\n",
      "2909/2909 [==============================] - 287s 99ms/step - loss: 3.2858 - accuracy: 0.3192 - val_loss: 4.4034 - val_accuracy: 0.2728\n",
      "Epoch 13/50\n",
      "2909/2909 [==============================] - 287s 99ms/step - loss: 3.2154 - accuracy: 0.3280 - val_loss: 4.4300 - val_accuracy: 0.2735\n",
      "Epoch 14/50\n",
      "2909/2909 [==============================] - 293s 101ms/step - loss: 3.1510 - accuracy: 0.3348 - val_loss: 4.4640 - val_accuracy: 0.2761\n",
      "Epoch 15/50\n",
      "2909/2909 [==============================] - 302s 104ms/step - loss: 3.0899 - accuracy: 0.3437 - val_loss: 4.4952 - val_accuracy: 0.2740\n",
      "Epoch 16/50\n",
      "2909/2909 [==============================] - 296s 102ms/step - loss: 3.0334 - accuracy: 0.3511 - val_loss: 4.5285 - val_accuracy: 0.2751\n",
      "Epoch 17/50\n",
      "2909/2909 [==============================] - 299s 103ms/step - loss: 2.9804 - accuracy: 0.3586 - val_loss: 4.5635 - val_accuracy: 0.2732\n",
      "Epoch 18/50\n",
      "2909/2909 [==============================] - 301s 103ms/step - loss: 2.9308 - accuracy: 0.3658 - val_loss: 4.6037 - val_accuracy: 0.2717\n",
      "Epoch 19/50\n",
      "2909/2909 [==============================] - 303s 104ms/step - loss: 2.8837 - accuracy: 0.3723 - val_loss: 4.6351 - val_accuracy: 0.2725\n",
      "Epoch 20/50\n",
      "2909/2909 [==============================] - 304s 105ms/step - loss: 2.8390 - accuracy: 0.3791 - val_loss: 4.6749 - val_accuracy: 0.2724\n",
      "Epoch 21/50\n",
      "2909/2909 [==============================] - 310s 107ms/step - loss: 2.7967 - accuracy: 0.3852 - val_loss: 4.7126 - val_accuracy: 0.2710\n",
      "Epoch 22/50\n",
      "2909/2909 [==============================] - 311s 107ms/step - loss: 2.7560 - accuracy: 0.3924 - val_loss: 4.7640 - val_accuracy: 0.2692\n",
      "Epoch 23/50\n",
      "2909/2909 [==============================] - 313s 108ms/step - loss: 2.7188 - accuracy: 0.3982 - val_loss: 4.7905 - val_accuracy: 0.2678\n",
      "Epoch 24/50\n",
      "2909/2909 [==============================] - 318s 109ms/step - loss: 2.6820 - accuracy: 0.4040 - val_loss: 4.8242 - val_accuracy: 0.2699\n",
      "Epoch 25/50\n",
      "2909/2909 [==============================] - 318s 109ms/step - loss: 2.6470 - accuracy: 0.4098 - val_loss: 4.8722 - val_accuracy: 0.2649\n",
      "Epoch 26/50\n",
      "2909/2909 [==============================] - 312s 107ms/step - loss: 2.6140 - accuracy: 0.4144 - val_loss: 4.9031 - val_accuracy: 0.2660\n",
      "Epoch 27/50\n",
      "2909/2909 [==============================] - 296s 102ms/step - loss: 2.5827 - accuracy: 0.4197 - val_loss: 4.9408 - val_accuracy: 0.2658\n",
      "Epoch 28/50\n",
      "2909/2909 [==============================] - 293s 101ms/step - loss: 2.5529 - accuracy: 0.4250 - val_loss: 4.9808 - val_accuracy: 0.2647\n",
      "Epoch 29/50\n",
      "2909/2909 [==============================] - 293s 101ms/step - loss: 2.5234 - accuracy: 0.4295 - val_loss: 5.0215 - val_accuracy: 0.2639\n",
      "Epoch 30/50\n",
      "2909/2909 [==============================] - 301s 103ms/step - loss: 2.4964 - accuracy: 0.4342 - val_loss: 5.0644 - val_accuracy: 0.2605\n",
      "Epoch 31/50\n",
      "2909/2909 [==============================] - 299s 103ms/step - loss: 2.4696 - accuracy: 0.4383 - val_loss: 5.0992 - val_accuracy: 0.2597\n",
      "Epoch 32/50\n",
      "2909/2909 [==============================] - 305s 105ms/step - loss: 2.4442 - accuracy: 0.4423 - val_loss: 5.1360 - val_accuracy: 0.2616\n",
      "Epoch 33/50\n",
      "2909/2909 [==============================] - 307s 106ms/step - loss: 2.4204 - accuracy: 0.4464 - val_loss: 5.1681 - val_accuracy: 0.2609\n",
      "Epoch 34/50\n",
      "2909/2909 [==============================] - 311s 107ms/step - loss: 2.3977 - accuracy: 0.4509 - val_loss: 5.2102 - val_accuracy: 0.2567\n",
      "Epoch 35/50\n",
      "2909/2909 [==============================] - 315s 108ms/step - loss: 2.3758 - accuracy: 0.4542 - val_loss: 5.2566 - val_accuracy: 0.2589\n",
      "Epoch 36/50\n",
      "2909/2909 [==============================] - 316s 109ms/step - loss: 2.3545 - accuracy: 0.4579 - val_loss: 5.2775 - val_accuracy: 0.2564\n",
      "Epoch 37/50\n",
      "2909/2909 [==============================] - 318s 109ms/step - loss: 2.3346 - accuracy: 0.4617 - val_loss: 5.3110 - val_accuracy: 0.2566\n",
      "Epoch 38/50\n",
      "2909/2909 [==============================] - 323s 111ms/step - loss: 2.3164 - accuracy: 0.4644 - val_loss: 5.3484 - val_accuracy: 0.2550\n",
      "Epoch 39/50\n",
      "2909/2909 [==============================] - 325s 112ms/step - loss: 2.2981 - accuracy: 0.4677 - val_loss: 5.3790 - val_accuracy: 0.2535\n",
      "Epoch 40/50\n",
      "2909/2909 [==============================] - 327s 112ms/step - loss: 2.2799 - accuracy: 0.4710 - val_loss: 5.4141 - val_accuracy: 0.2506\n",
      "Epoch 41/50\n",
      "2909/2909 [==============================] - 329s 113ms/step - loss: 2.2640 - accuracy: 0.4738 - val_loss: 5.4421 - val_accuracy: 0.2520\n",
      "Epoch 42/50\n",
      "2909/2909 [==============================] - 337s 116ms/step - loss: 2.2480 - accuracy: 0.4766 - val_loss: 5.4895 - val_accuracy: 0.2513\n",
      "Epoch 43/50\n",
      "2909/2909 [==============================] - 332s 114ms/step - loss: 2.2322 - accuracy: 0.4795 - val_loss: 5.5169 - val_accuracy: 0.2517\n",
      "Epoch 44/50\n",
      "2909/2909 [==============================] - 337s 116ms/step - loss: 2.2188 - accuracy: 0.4817 - val_loss: 5.5474 - val_accuracy: 0.2501\n",
      "Epoch 45/50\n",
      "2909/2909 [==============================] - 340s 117ms/step - loss: 2.2042 - accuracy: 0.4845 - val_loss: 5.5686 - val_accuracy: 0.2503\n",
      "Epoch 46/50\n",
      "2909/2909 [==============================] - 340s 117ms/step - loss: 2.1918 - accuracy: 0.4872 - val_loss: 5.5971 - val_accuracy: 0.2482\n",
      "Epoch 47/50\n",
      "2909/2909 [==============================] - 347s 119ms/step - loss: 2.1825 - accuracy: 0.4883 - val_loss: 5.6416 - val_accuracy: 0.2482\n",
      "Epoch 48/50\n",
      "2909/2909 [==============================] - 346s 119ms/step - loss: 2.1671 - accuracy: 0.4906 - val_loss: 5.6577 - val_accuracy: 0.2476\n",
      "Epoch 49/50\n",
      "2909/2909 [==============================] - 352s 121ms/step - loss: 2.1603 - accuracy: 0.4920 - val_loss: 5.6900 - val_accuracy: 0.2466\n",
      "Epoch 50/50\n",
      "2909/2909 [==============================] - 358s 123ms/step - loss: 2.1428 - accuracy: 0.4958 - val_loss: 5.7175 - val_accuracy: 0.2456\n"
     ]
    },
    {
     "name": "stderr",
     "output_type": "stream",
     "text": [
      "WARNING:absl:Found untraced functions such as lstm_cell_layer_call_fn, lstm_cell_layer_call_and_return_conditional_losses while saving (showing 2 of 2). These functions will not be directly callable after loading.\n"
     ]
    },
    {
     "name": "stdout",
     "output_type": "stream",
     "text": [
      "INFO:tensorflow:Assets written to: bible_model\\assets\n"
     ]
    },
    {
     "name": "stderr",
     "output_type": "stream",
     "text": [
      "INFO:tensorflow:Assets written to: bible_model\\assets\n"
     ]
    },
    {
     "data": {
      "image/png": "[encoded data removed]",
      "text/plain": [
       "<Figure size 432x288 with 1 Axes>"
      ]
     },
     "metadata": {
      "needs_background": "light"
     },
     "output_type": "display_data"
    }
   ],
   "source": [
    "from sklearn.model_selection import train_test_split\n",
    "\n",
    "X_train, X_test, y_train, y_test = train_test_split(X, y, random_state=42)\n",
    "\n",
    "# The learned embedding needs to know how many dimensions will be used to represent each word. \n",
    "# That is, the size of the embedding vector space. That is, the size of the embedding vector space.\n",
    "# Common values are 50, 100, and 300. Consider testing smaller or larger values.\n",
    "dimensions_to_represent_word = 100\n",
    " \n",
    "model = Sequential()\n",
    "model.add(Embedding(vocab_size, sequence_length, input_length=sequence_length))\n",
    "# We will use a two LSTM hidden layers with 100 memory cells each. \n",
    "# More memory cells and a deeper network may achieve better results.\n",
    "#model.add(LSTM(100, return_sequences=True))\n",
    "model.add(LSTM(200))\n",
    "#model.add(Dense(50, activation='relu'))\n",
    "#model.add(Dropout(0.5))\n",
    "model.add(Dense(vocab_size, activation='softmax'))\n",
    "\n",
    "model.compile(loss='categorical_crossentropy', optimizer='adam', metrics=['accuracy'])\n",
    "\n",
    "# Training may take a few hours on modern hardware without GPUs. \n",
    "# You can speed it up with a larger batch size and/or fewer training epochs.\n",
    "history = model.fit(\n",
    "    X_train, \n",
    "    y_train, \n",
    "    batch_size=128, \n",
    "    epochs=50, \n",
    "    verbose=1,\n",
    "    validation_data=(X_test, y_test)\n",
    ")\n",
    "\n",
    "plt.plot(history.history['accuracy'], label='training accuracy')\n",
    "plt.plot(history.history['val_accuracy'], label='validation accuracy')\n",
    "plt.legend()\n",
    "\n",
    "\n",
    "model.save('bible_model')"
   ]
  },
  {
   "cell_type": "markdown",
   "id": "fb25ec58",
   "metadata": {},
   "source": [
    "## 3. Predict word by word"
   ]
  },
  {
   "cell_type": "code",
   "execution_count": 8,
   "id": "232ca78e",
   "metadata": {},
   "outputs": [
    {
     "name": "stdout",
     "output_type": "stream",
     "text": [
      "seed : \n",
      "and the lord said unto moses and aaron go get thee down for thy people i will make of thee a great nation the twelve children of\n",
      "next words : \n",
      "israel shall hallow to them for himself selah judgment and justice in the day of jeroboam and in the land of canaan shall come out of the land of canaan and the lord spake unto him saying this is the law be among you and the lord spake unto moses saying speak unto the children of israel and say unto them ye shall not go down to the lord our god to save us to anger and the lord said unto moses stretch out thine hand toward the land of egypt and the lord said unto moses stretch out thine\n"
     ]
    }
   ],
   "source": [
    "import keras\n",
    "model = keras.models.load_model('bible_model', compile=False)\n",
    "model.compile(loss='categorical_crossentropy', optimizer='adam', metrics=['accuracy'])\n",
    "\n",
    "# must be longer than sequence_length\n",
    "seed = \"and the lord said unto moses and aaron go get thee down for thy people i will make of thee a great nation the twelve children of\"\n",
    "n_predictions = 100\n",
    "reverse_word_map = dict(map(reversed, tokenizer.word_index.items()))\n",
    "\n",
    "print('seed : \\n' + seed)\n",
    "last_words = seed.split(' ')[-sequence_length:]\n",
    "preds = []\n",
    "\n",
    "for i in range(n_predictions):\n",
    "    example = tokenizer.texts_to_sequences([last_words])\n",
    "    prediction = model.predict(np.array(example), verbose=0)\n",
    "    predicted_word = np.argmax(prediction)\n",
    "    last_words = last_words[1:]\n",
    "    last_words.append(reverse_word_map[predicted_word])\n",
    "    preds.append(reverse_word_map[predicted_word])\n",
    "    \n",
    "print('next words : \\n' + ' '.join(preds))"
   ]
  }
 ],
 "metadata": {
  "kernelspec": {
   "display_name": "Python 3 (ipykernel)",
   "language": "python",
   "name": "python3"
  },
  "language_info": {
   "codemirror_mode": {
    "name": "ipython",
    "version": 3
   },
   "file_extension": ".py",
   "mimetype": "text/x-python",
   "name": "python",
   "nbconvert_exporter": "python",
   "pygments_lexer": "ipython3",
   "version": "3.9.7"
  }
 },
 "nbformat": 4,
 "nbformat_minor": 5
}
